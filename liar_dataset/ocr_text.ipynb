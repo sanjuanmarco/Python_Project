{
 "cells": [
  {
   "cell_type": "code",
   "execution_count": null,
   "source": [
    "import easyocr"
   ],
   "outputs": [],
   "metadata": {}
  },
  {
   "cell_type": "code",
   "execution_count": null,
   "source": [
    "img = r'image.jpg'\r\n",
    "\r\n",
    "reader = easyocr.Reader(['en']) #loading easy ocr model \r\n",
    "result = reader.readtext(img, detail = 0) #reading the image \r\n",
    "\r\n",
    "result_list = []\r\n",
    "\r\n",
    "#appending extracted words into a list \r\n",
    "for word in result:\r\n",
    "    result_list.append(word)\r\n",
    "\r\n",
    "print(result_list)"
   ],
   "outputs": [],
   "metadata": {}
  },
  {
   "cell_type": "code",
   "execution_count": null,
   "source": [],
   "outputs": [],
   "metadata": {}
  }
 ],
 "metadata": {
  "orig_nbformat": 4,
  "language_info": {
   "name": "python",
   "version": "3.9.7",
   "mimetype": "text/x-python",
   "codemirror_mode": {
    "name": "ipython",
    "version": 3
   },
   "pygments_lexer": "ipython3",
   "nbconvert_exporter": "python",
   "file_extension": ".py"
  },
  "kernelspec": {
   "name": "python3",
   "display_name": "Python 3.9.7 64-bit (windows store)"
  },
  "interpreter": {
   "hash": "3e4df40fccfca8c47bc06f6f52004e61112148dd1b7da9d84d703ec6d03d9cdf"
  }
 },
 "nbformat": 4,
 "nbformat_minor": 2
}