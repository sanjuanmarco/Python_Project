{
 "cells": [
  {
   "cell_type": "code",
   "execution_count": 92,
   "source": [
    "import pandas as pd\r\n",
    "import re\r\n",
    "import numpy as np\r\n",
    "import nltk\r\n",
    "nltk.download('stopwords')\r\n",
    "nltk.download('punkt')\r\n",
    "from rake_nltk import Rake\r\n",
    "from nltk.corpus import stopwords\r\n",
    "from nltk.stem import SnowballStemmer\r\n",
    "from sklearn.feature_extraction.text  import TfidfVectorizer\r\n",
    "from sklearn.svm import LinearSVC\r\n",
    "from sklearn.pipeline import Pipeline\r\n",
    "from sklearn.model_selection import train_test_split\r\n",
    "from sklearn.feature_selection import SelectKBest, chi2\r\n",
    "from sklearn.metrics import accuracy_score\r\n"
   ],
   "outputs": [
    {
     "output_type": "stream",
     "name": "stderr",
     "text": [
      "[nltk_data] Downloading package stopwords to\n",
      "[nltk_data]     C:\\Users\\Kyle\\AppData\\Roaming\\nltk_data...\n",
      "[nltk_data]   Package stopwords is already up-to-date!\n",
      "[nltk_data] Downloading package punkt to\n",
      "[nltk_data]     C:\\Users\\Kyle\\AppData\\Roaming\\nltk_data...\n",
      "[nltk_data]   Package punkt is already up-to-date!\n"
     ]
    }
   ],
   "metadata": {}
  },
  {
   "cell_type": "code",
   "execution_count": 93,
   "source": [
    "def read_dataframe(csv_file) -> pd.DataFrame:\r\n",
    "   \r\n",
    "    df = pd.read_csv(\"test.csv\")\r\n",
    "    \r\n",
    "    # replaces all \"null\" or \"NaN\" values with an empty string\r\n",
    "    df.fillna(\"\", inplace=True)\r\n",
    "    \r\n",
    "    # labels the columns in the dataset using the data dictionary described in the README\r\n",
    "    df.columns = [\r\n",
    "        'statement',     # Column 1: Statement.\r\n",
    "        'label',         # Column 1: Label.\r\n",
    "\r\n",
    "    ]\r\n",
    "    \r\n",
    "    return df\r\n",
    "\r\n",
    "#create a dataframe from the training data\r\n",
    "data = read_dataframe('train.csv')\r\n"
   ],
   "outputs": [],
   "metadata": {}
  },
  {
   "cell_type": "code",
   "execution_count": 94,
   "source": [
    "stemmer = SnowballStemmer('english')\r\n",
    "words = stopwords.words(\"english\")\r\n",
    "\r\n",
    "data['preprocessed'] = data['statement'].apply(lambda x: \" \".join([stemmer.stem(i) for i in re.sub(\"[^a-zA-Z]\",\" \",x).split() if i not in words]).lower())"
   ],
   "outputs": [],
   "metadata": {}
  },
  {
   "cell_type": "code",
   "execution_count": 95,
   "source": [
    "X_train, X_test,y_train,y_test = train_test_split(data['preprocessed'],data.label, test_size=.3)"
   ],
   "outputs": [],
   "metadata": {}
  },
  {
   "cell_type": "code",
   "execution_count": 96,
   "source": [
    "pipeline = Pipeline([('vect',TfidfVectorizer(ngram_range=(1,1),stop_words = \"english\",sublinear_tf=True)),\r\n",
    "                    ('chi',SelectKBest(chi2,k=1000)),\r\n",
    "                    ('clf',LinearSVC(C=1.0,penalty='l1',max_iter=3000, dual = False))])"
   ],
   "outputs": [],
   "metadata": {}
  },
  {
   "cell_type": "code",
   "execution_count": 97,
   "source": [
    "model = pipeline.fit(X_train,y_train)\r\n",
    "\r\n",
    "vectorizer = model.named_steps['vect']\r\n",
    "chi = model.named_steps['chi']\r\n",
    "clf = model.named_steps['clf']"
   ],
   "outputs": [],
   "metadata": {}
  },
  {
   "cell_type": "code",
   "execution_count": 98,
   "source": [
    "feature_names = vectorizer.get_feature_names()\r\n",
    "feautre_names = [feature_names[i] for i in chi.get_support(indices = True)]\r\n",
    "feautre_names = np.asarray(feautre_names)"
   ],
   "outputs": [],
   "metadata": {}
  },
  {
   "cell_type": "code",
   "execution_count": 99,
   "source": [
    "# Output will be used for web crawling\r\n",
    "# RAKE\r\n",
    "news = \"Donald Trump was sworn in as the 45th president of the United States on Jan. 20 after his stunning upset over Democratic rival Hillary Clinton.\"\r\n",
    "r = Rake()\r\n",
    "words = r.extract_keywords_from_text(news)\r\n",
    "f_words = r.get_ranked_phrases()\r\n",
    "print(f_words)"
   ],
   "outputs": [
    {
     "output_type": "stream",
     "name": "stdout",
     "text": [
      "['democratic rival hillary clinton', 'united states', 'stunning upset', 'donald trump', '45th president', 'sworn', 'jan', '20']\n"
     ]
    }
   ],
   "metadata": {}
  },
  {
   "cell_type": "code",
   "execution_count": 100,
   "source": [
    "print(\"accuracy_score \" + str(model.score(X_test,y_test)))\r\n",
    "print(model.predict([\"Donald Trump was sworn in as the 45th president of the United States on Jan. 20 after his stunning upset over Democratic rival Hillary Clinton.\"]))\r\n",
    "\r\n"
   ],
   "outputs": [
    {
     "output_type": "stream",
     "name": "stdout",
     "text": [
      "accuracy_score 0.5718015665796344\n",
      "[False]\n"
     ]
    }
   ],
   "metadata": {}
  }
 ],
 "metadata": {
  "orig_nbformat": 4,
  "language_info": {
   "name": "python",
   "version": "3.9.7",
   "mimetype": "text/x-python",
   "codemirror_mode": {
    "name": "ipython",
    "version": 3
   },
   "pygments_lexer": "ipython3",
   "nbconvert_exporter": "python",
   "file_extension": ".py"
  },
  "kernelspec": {
   "name": "python3",
   "display_name": "Python 3.9.7 64-bit (windows store)"
  },
  "interpreter": {
   "hash": "3edb1d15b33914cd3fbeabedf21da0112479a62343769a435eda4427aeae560a"
  }
 },
 "nbformat": 4,
 "nbformat_minor": 2
}