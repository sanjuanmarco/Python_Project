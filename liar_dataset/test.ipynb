{
 "cells": [
  {
   "cell_type": "code",
   "execution_count": 2,
   "source": [
    "import pandas as pd\r\n",
    "import re\r\n",
    "import numpy as np\r\n",
    "import nltk\r\n",
    "nltk.download('stopwords')\r\n",
    "from nltk.corpus import stopwords\r\n",
    "from nltk.stem import SnowballStemmer\r\n",
    "from sklearn.feature_extraction.text  import TfidfVectorizer\r\n",
    "from sklearn.svm import LinearSVC\r\n",
    "from sklearn.pipeline import Pipeline\r\n",
    "from sklearn.model_selection import train_test_split\r\n",
    "from sklearn.feature_selection import SelectKBest, chi2\r\n",
    "from sklearn.metrics import accuracy_score\r\n"
   ],
   "outputs": [
    {
     "output_type": "stream",
     "name": "stderr",
     "text": [
      "[nltk_data] Downloading package stopwords to\n",
      "[nltk_data]     C:\\Users\\jake\\AppData\\Roaming\\nltk_data...\n",
      "[nltk_data]   Package stopwords is already up-to-date!\n"
     ]
    }
   ],
   "metadata": {}
  },
  {
   "cell_type": "code",
   "execution_count": 3,
   "source": [
    "def read_dataframe(tsv_file: str) -> pd.DataFrame:\r\n",
    "    \r\n",
    "   \r\n",
    "    df = pd.read_csv(tsv_file, delimiter='\\t', dtype=object)\r\n",
    "    \r\n",
    "    # replaces all \"null\" or \"NaN\" values with an empty string\r\n",
    "    df.fillna(\"\", inplace=True)\r\n",
    "    \r\n",
    "    # labels the columns in the dataset using the data dictionary described in the README\r\n",
    "    df.columns = [\r\n",
    "        'id',                # Column 1: the ID of the statement ([ID].json).\r\n",
    "        'label',             # Column 2: the label.\r\n",
    "        'statement',         # Column 3: the statement.\r\n",
    "        'subjects',          # Column 4: the subject(s).\r\n",
    "        'speaker',           # Column 5: the speaker.\r\n",
    "        'speaker_job_title', # Column 6: the speaker's job title.\r\n",
    "        'state_info',        # Column 7: the state info.\r\n",
    "        'party_affiliation', # Column 8: the party affiliation.\r\n",
    "    \r\n",
    "        'count_1', # barely true counts.\r\n",
    "        'count_2', # false counts.\r\n",
    "        'count_3', # half true counts.\r\n",
    "        'count_4', # mostly true counts.\r\n",
    "        'count_5', # pants on fire counts.\r\n",
    "        \r\n",
    "        'context' # Column 14: the context (venue / location of the speech or statement).\r\n",
    "    ]\r\n",
    "    \r\n",
    "    return df\r\n",
    "\r\n",
    "#create a dataframe from the training data\r\n",
    "data = read_dataframe('train.tsv')\r\n"
   ],
   "outputs": [],
   "metadata": {}
  },
  {
   "cell_type": "code",
   "execution_count": 4,
   "source": [
    "stemmer = SnowballStemmer('english')\r\n",
    "words = stopwords.words(\"english\")\r\n",
    "\r\n",
    "data['preprocessed'] = data['statement'].apply(lambda x: \" \".join([stemmer.stem(i) for i in re.sub(\"[^a-zA-Z]\",\" \",x).split() if i not in words]).lower())"
   ],
   "outputs": [],
   "metadata": {}
  },
  {
   "cell_type": "code",
   "execution_count": 5,
   "source": [
    "X_train, X_test,y_train,y_test = train_test_split(data['preprocessed'],data.label, test_size=.3)"
   ],
   "outputs": [],
   "metadata": {}
  },
  {
   "cell_type": "code",
   "execution_count": 6,
   "source": [
    "pipeline = Pipeline([('vect',TfidfVectorizer(ngram_range=(1,1),stop_words = \"english\",sublinear_tf=True)),\r\n",
    "                    ('chi',SelectKBest(chi2,k=1000)),\r\n",
    "                    ('clf',LinearSVC(C=1.0,penalty='l1',max_iter=3000, dual = False))])"
   ],
   "outputs": [],
   "metadata": {}
  },
  {
   "cell_type": "code",
   "execution_count": 7,
   "source": [
    "model = pipeline.fit(X_train,y_train)\r\n",
    "\r\n",
    "vectorizer = model.named_steps['vect']\r\n",
    "chi = model.named_steps['chi']\r\n",
    "clf = model.named_steps['clf']"
   ],
   "outputs": [],
   "metadata": {}
  },
  {
   "cell_type": "code",
   "execution_count": 8,
   "source": [
    "feature_names = vectorizer.get_feature_names()\r\n",
    "feautre_names = [feature_names[i] for i in chi.get_support(indices = True)]\r\n",
    "feautre_names = np.asarray(feautre_names)"
   ],
   "outputs": [],
   "metadata": {}
  },
  {
   "cell_type": "code",
   "execution_count": 17,
   "source": [
    "print(\"accuracy_score \" + str(model.score(X_test,y_test)))\r\n",
    "print(model.predict([\"Ipatitigil ni Pangulong Rodrigo Duterte ang pakikipag-transaksyon ng pamahalaan sa Philippine Red Cross kung hindi magsusumite ng financial records ang organisasyon na pinamumunuan ni Senador Richard Gordon para sa auditing.\"]))"
   ],
   "outputs": [
    {
     "output_type": "stream",
     "name": "stdout",
     "text": [
      "accuracy_score 0.23697916666666666\n",
      "['false']\n"
     ]
    }
   ],
   "metadata": {}
  }
 ],
 "metadata": {
  "orig_nbformat": 4,
  "language_info": {
   "name": "python",
   "version": "3.9.7",
   "mimetype": "text/x-python",
   "codemirror_mode": {
    "name": "ipython",
    "version": 3
   },
   "pygments_lexer": "ipython3",
   "nbconvert_exporter": "python",
   "file_extension": ".py"
  },
  "kernelspec": {
   "name": "python3",
   "display_name": "Python 3.9.7 64-bit"
  },
  "interpreter": {
   "hash": "ac59ebe37160ed0dfa835113d9b8498d9f09ceb179beaac4002f036b9467c963"
  }
 },
 "nbformat": 4,
 "nbformat_minor": 2
}