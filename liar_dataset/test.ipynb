{
 "cells": [
  {
   "cell_type": "code",
   "execution_count": 18,
   "metadata": {},
   "outputs": [
    {
     "name": "stderr",
     "output_type": "stream",
     "text": [
      "[nltk_data] Downloading package stopwords to\n",
      "[nltk_data]     C:\\Users\\Kyle\\AppData\\Roaming\\nltk_data...\n",
      "[nltk_data]   Package stopwords is already up-to-date!\n",
      "[nltk_data] Downloading package punkt to\n",
      "[nltk_data]     C:\\Users\\Kyle\\AppData\\Roaming\\nltk_data...\n",
      "[nltk_data]   Package punkt is already up-to-date!\n"
     ]
    }
   ],
   "source": [
    "import pandas as pd\n",
    "import re\n",
    "import numpy as np\n",
    "import nltk\n",
    "nltk.download('stopwords')\n",
    "nltk.download('punkt')\n",
    "from rake_nltk import Rake\n",
    "from nltk.corpus import stopwords\n",
    "from nltk.stem import SnowballStemmer\n",
    "from sklearn.feature_extraction.text  import TfidfVectorizer\n",
    "from sklearn.svm import LinearSVC\n",
    "from sklearn.pipeline import Pipeline\n",
    "from sklearn.model_selection import train_test_split\n",
    "from sklearn.feature_selection import SelectKBest, chi2\n",
    "from sklearn.metrics import accuracy_score\n"
   ]
  },
  {
   "cell_type": "code",
   "execution_count": 19,
   "metadata": {},
   "outputs": [],
   "source": [
    "def read_dataframe(csv_file) -> pd.DataFrame:\n",
    "   \n",
    "    df = pd.read_csv(\"test.csv\")\n",
    "    \n",
    "    # replaces all \"null\" or \"NaN\" values with an empty string\n",
    "    df.fillna(\"\", inplace=True)\n",
    "    \n",
    "    # labels the columns in the dataset using the data dictionary described in the README\n",
    "    df.columns = [\n",
    "        'statement',     # Column 1: Statement.\n",
    "        'label',         # Column 1: Label.\n",
    "\n",
    "    ]\n",
    "    \n",
    "    return df\n",
    "\n",
    "#create a dataframe from the training data\n",
    "data = read_dataframe('train.csv')\n"
   ]
  },
  {
   "cell_type": "code",
   "execution_count": 20,
   "metadata": {},
   "outputs": [],
   "source": [
    "stemmer = SnowballStemmer('english')\n",
    "words = stopwords.words(\"english\")\n",
    "\n",
    "data['preprocessed'] = data['statement'].apply(lambda x: \" \".join([stemmer.stem(i) for i in re.sub(\"[^a-zA-Z]\",\" \",x).split() if i not in words]).lower())"
   ]
  },
  {
   "cell_type": "code",
   "execution_count": 21,
   "metadata": {},
   "outputs": [],
   "source": [
    "X_train, X_test,y_train,y_test = train_test_split(data['preprocessed'],data.label, test_size=.3)"
   ]
  },
  {
   "cell_type": "code",
   "execution_count": 22,
   "metadata": {},
   "outputs": [],
   "source": [
    "pipeline = Pipeline([('vect',TfidfVectorizer(ngram_range=(1,1),stop_words = \"english\",sublinear_tf=True)),\n",
    "                    ('chi',SelectKBest(chi2,k=1000)),\n",
    "                    ('clf',LinearSVC(C=1.0,penalty='l1',max_iter=3000, dual = False))])"
   ]
  },
  {
   "cell_type": "code",
   "execution_count": 23,
   "metadata": {},
   "outputs": [],
   "source": [
    "model = pipeline.fit(X_train,y_train)\n",
    "\n",
    "vectorizer = model.named_steps['vect']\n",
    "chi = model.named_steps['chi']\n",
    "clf = model.named_steps['clf']"
   ]
  },
  {
   "cell_type": "code",
   "execution_count": 24,
   "metadata": {},
   "outputs": [],
   "source": [
    "feature_names = vectorizer.get_feature_names()\n",
    "feautre_names = [feature_names[i] for i in chi.get_support(indices = True)]\n",
    "feautre_names = np.asarray(feautre_names)"
   ]
  },
  {
   "cell_type": "code",
   "execution_count": 25,
   "metadata": {},
   "outputs": [
    {
     "name": "stdout",
     "output_type": "stream",
     "text": [
      "['democratic rival hillary clinton', 'united states', 'stunning upset', 'donald trump', '45th president', 'sworn', 'jan', '20']\n"
     ]
    }
   ],
   "source": [
    "# Output will be used for web crawling\n",
    "# RAKE Algo\n",
    "news = \"Donald Trump was sworn in as the 45th president of the United States on Jan. 20 after his stunning upset over Democratic rival Hillary Clinton.\"\n",
    "r = Rake()\n",
    "words = r.extract_keywords_from_text(news)\n",
    "f_words = r.get_ranked_phrases()\n",
    "print(f_words)"
   ]
  },
  {
   "cell_type": "code",
   "execution_count": 26,
   "metadata": {},
   "outputs": [
    {
     "name": "stdout",
     "output_type": "stream",
     "text": [
      "accuracy_score 0.5913838120104439\n",
      "[ True]\n"
     ]
    }
   ],
   "source": [
    "print(\"accuracy_score \" + str(model.score(X_test,y_test)))\n",
    "print(model.predict([\"Rodrigo Duterte was sworn in as the 45th president of the United States on Jan. 20 after his stunning upset over Democratic rival Binay.\"]))\n",
    "\n"
   ]
  }
 ],
 "metadata": {
  "interpreter": {
   "hash": "3edb1d15b33914cd3fbeabedf21da0112479a62343769a435eda4427aeae560a"
  },
  "kernelspec": {
   "display_name": "Python 3.9.7 64-bit (windows store)",
   "name": "python3"
  },
  "language_info": {
   "codemirror_mode": {
    "name": "ipython",
    "version": 3
   },
   "file_extension": ".py",
   "mimetype": "text/x-python",
   "name": "python",
   "nbconvert_exporter": "python",
   "pygments_lexer": "ipython3",
   "version": "3.9.7"
  },
  "orig_nbformat": 4
 },
 "nbformat": 4,
 "nbformat_minor": 2
}
