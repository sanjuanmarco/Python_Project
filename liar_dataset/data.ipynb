{
 "cells": [
  {
   "cell_type": "code",
   "execution_count": null,
   "metadata": {},
   "outputs": [],
   "source": [
    "import torch\n",
    "import numpy as np\n",
    "\n",
    "def str2bool(v):\n",
    "    if v.lower()  == 'true': return True\n",
    "    elif v.lower() == 'false': return False\n",
    "    else: raise argparse.ArgumentTypeError('Boolean value expected.')\n",
    "\n",
    "def process_labels(labels):\n",
    "    # If the task has multiple label columns\n",
    "    if len(labels.shape) == 2:\n",
    "        return torch.tensor(labels).float()\n",
    "\n",
    "    # If the task has one label columns\n",
    "    elif len(labels.shape) == 1:\n",
    "        if type(labels[0]) is not int:\n",
    "            labellist = list(set(labels))\n",
    "            encodings = [labellist.index(l) for l in labels]\n",
    "            return torch.tensor(encodings)\n",
    "        return torch.tensor(labels)\n",
    "\n",
    "def process_data(text, labels, tokenizer, msl=128):\n",
    "    # Process text\n",
    "    if len(text.shape) == 2: # Sentence pair tasks\n",
    "        text = [tuple(t) for t in text]\n",
    "        encodings = tokenizer(text, truncation='longest_first', padding='max_length', max_length=msl)\n",
    "    elif len(text.shape) == 1: # Sentence tasks\n",
    "        encodings = tokenizer(list(text), truncation='longest_first', padding='max_length', max_length=msl)\n",
    "\n",
    "    # Process labels\n",
    "    targets = process_labels(labels)\n",
    "\n",
    "    # Convert to tensordataset\n",
    "    if 'distilbert' in str(type(tokenizer)) or 'roberta' in str(type(tokenizer)):\n",
    "        dataset = torch.utils.data.TensorDataset(torch.tensor(encodings.input_ids),\n",
    "                                                torch.tensor(encodings.attention_mask), \n",
    "                                                targets)\n",
    "    else:\n",
    "        dataset = torch.utils.data.TensorDataset(torch.tensor(encodings.input_ids), \n",
    "                                                torch.tensor(encodings.token_type_ids), \n",
    "                                                torch.tensor(encodings.attention_mask), \n",
    "                                                targets)\n",
    "\n",
    "    return dataset"
   ]
  }
 ],
 "metadata": {
  "language_info": {
   "name": "python"
  },
  "orig_nbformat": 4
 },
 "nbformat": 4,
 "nbformat_minor": 2
}
