{
 "cells": [
  {
   "cell_type": "code",
   "execution_count": 14,
   "metadata": {},
   "outputs": [
    {
     "name": "stderr",
     "output_type": "stream",
     "text": [
      "[nltk_data] Downloading package punkt to\n",
      "[nltk_data]     C:\\Users\\jake\\AppData\\Roaming\\nltk_data...\n",
      "[nltk_data]   Package punkt is already up-to-date!\n"
     ]
    },
    {
     "data": {
      "text/plain": [
       "True"
      ]
     },
     "execution_count": 14,
     "metadata": {},
     "output_type": "execute_result"
    }
   ],
   "source": [
    "import nltk, string\n",
    "from sklearn.feature_extraction.text import TfidfVectorizer\n",
    "from rake_nltk import Rake\n",
    "import operator\n",
    "\n",
    "nltk.download('punkt') # if necessary...\n"
   ]
  },
  {
   "cell_type": "code",
   "execution_count": 15,
   "metadata": {},
   "outputs": [
    {
     "name": "stdout",
     "output_type": "stream",
     "text": [
      "saturday reported 65 new covid 19 deaths bringing deaths accounts total number death toll country ’ 51 percent doh said doh health department cases 585 41 1\n",
      "additional 65 deaths total deaths saturday reported ministry health health fatal doh department covid19 covid19 cases bringing according 585 51 41 1\n"
     ]
    }
   ],
   "source": [
    "#Extract Keywords from rake to compare similarities \n",
    "\n",
    "def listToString(s): \n",
    "\n",
    "    str1 = \" \" \n",
    "    \n",
    "    return (str1.join(s))\n",
    "\n",
    "r = Rake()\n",
    "r.extract_keywords_from_text(r\"The Department of Health (DOH) on Saturday reported 65 new COVID-19 deaths bringing the country’s death toll to 41,585.The total number of deaths accounts for 1.51 percent of all cases, the DOH said.\")\n",
    "r.get_ranked_phrases()\n",
    "\n",
    "r1 = Rake()\n",
    "r1.extract_keywords_from_text( r\"On Saturday, the Department of Health (DOH) reported an additional 65 deaths from COVID19, bringing the total deaths from COVID19  to 41,585. According to the Ministry of Health, 1.51% of all cases are fatal.\")\n",
    "r1.get_ranked_phrases()\n",
    "\n",
    "\n",
    "\n",
    "str1 = listToString(r.get_ranked_phrases())\n",
    "str2 = listToString(r1.get_ranked_phrases())\n",
    "\n",
    "\n",
    "# Printing keywords in string form\n",
    "print(str1)\n",
    "print(str2)\n",
    "\n"
   ]
  },
  {
   "cell_type": "code",
   "execution_count": 16,
   "metadata": {},
   "outputs": [
    {
     "name": "stdout",
     "output_type": "stream",
     "text": [
      "0.5246250528745301\n"
     ]
    }
   ],
   "source": [
    "#compare similarities\n",
    "\n",
    "stemmer = nltk.stem.porter.PorterStemmer()\n",
    "remove_punctuation_map = dict((ord(char), None) for char in string.punctuation)\n",
    "\n",
    "def stem_tokens(tokens):\n",
    "    return [stemmer.stem(item) for item in tokens]\n",
    "\n",
    "'''remove punctuation, lowercase, stem'''\n",
    "def normalize(text):\n",
    "    return stem_tokens(nltk.word_tokenize(text.lower().translate(remove_punctuation_map)))\n",
    "\n",
    "vectorizer = TfidfVectorizer(tokenizer=normalize, stop_words='english')\n",
    "\n",
    "def cosine_sim(text1, text2):\n",
    "    tfidf = vectorizer.fit_transform([text1, text2])\n",
    "    return ((tfidf * tfidf.T).A)[0,1]\n",
    "\n",
    "\n",
    "input1 = str1\n",
    "input2 = str2\n",
    "print (cosine_sim(input2, input1))\n"
   ]
  }
 ],
 "metadata": {
  "interpreter": {
   "hash": "ac59ebe37160ed0dfa835113d9b8498d9f09ceb179beaac4002f036b9467c963"
  },
  "kernelspec": {
   "display_name": "Python 3.9.7 64-bit",
   "name": "python3"
  },
  "language_info": {
   "codemirror_mode": {
    "name": "ipython",
    "version": 3
   },
   "file_extension": ".py",
   "mimetype": "text/x-python",
   "name": "python",
   "nbconvert_exporter": "python",
   "pygments_lexer": "ipython3",
   "version": "3.9.7"
  },
  "orig_nbformat": 4
 },
 "nbformat": 4,
 "nbformat_minor": 2
}
