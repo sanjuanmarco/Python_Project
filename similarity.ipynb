{
 "cells": [
  {
   "cell_type": "code",
   "execution_count": 7,
   "metadata": {},
   "outputs": [],
   "source": [
    "import nltk, string\n",
    "from sklearn.feature_extraction.text import TfidfVectorizer\n",
    "from rake_nltk import Rake\n",
    "import operator\n",
    "\n",
    "\n"
   ]
  },
  {
   "cell_type": "code",
   "execution_count": 8,
   "metadata": {},
   "outputs": [
    {
     "name": "stdout",
     "output_type": "stream",
     "text": [
      "johns hopkins university covid global deaths currently stand total deaths worldwide total deaths account sunday reported 208 923 confirmed covid total active infections country currently sit 1 percent asymptomatic 2 percent moderate 19 deaths active cases 85 percent 52 percent 1 percent 1 percent philippines � mild symptoms death toll country � also accounts 19 tracker 19 cases covid country 1 2 2 2 severe recoveries meanwhile manila health doh department critical bringing according 958 957 943 9 793 77 756 654 60 6 5 5 41 4 173 0\n",
      "johns hopkins university covid global deaths currently stand total deaths worldwide total deaths account sunday reported 208 923 confirmed covid total active infections country currently sit 1 percent asymptomatic 2 percent moderate 19 deaths active cases 85 percent 52 percent 1 percent 1 percent philippines � mild symptoms death toll country � also accounts 19 tracker 19 cases covid country 1 2 2 2 severe recoveries meanwhile manila health doh department critical bringing according 958 957 943 9 793 77 756 654 60 6 5 5 41 4 173 0\n"
     ]
    }
   ],
   "source": [
    "#Extract Keywords from rake to compare similarities \n",
    "\n",
    "def listToString(s): \n",
    "\n",
    "    str1 = \" \" \n",
    "    \n",
    "    return (str1.join(s))\n",
    "\n",
    "\n",
    "r = Rake()\n",
    "r.extract_keywords_from_text(r\"MANILA, Philippines � The Department of Health (DOH) on Sunday reported 208 more COVID-19 deaths, bringing the country�s death toll to 41,793. The total deaths account for 1.52 percent of the 2,756,923 confirmed COVID-19 cases in the country. It also accounts for 0.85 percent of the total deaths worldwide. According to Johns Hopkins University COVID-19 tracker, global deaths currently stand at 4,943,958. Meanwhile, the total active infections in the country currently sit at 60,957, while recoveries are at 2,654,173. Of the active cases, 77.5 have mild symptoms, 9.2 percent moderate, 6.1 percent asymptomatic, 5.1 percent are severe, and 2.1 percent are critical.\")\n",
    "r.get_ranked_phrases()\n",
    "\n",
    "r1 = Rake()\n",
    "r1.extract_keywords_from_text(r\"MANILA, Philippines � The Department of Health (DOH) on Sunday reported 208 more COVID-19 deaths, bringing the country�s death toll to 41,793. The total deaths account for 1.52 percent of the 2,756,923 confirmed COVID-19 cases in the country. It also accounts for 0.85 percent of the total deaths worldwide. According to Johns Hopkins University COVID-19 tracker, global deaths currently stand at 4,943,958. Meanwhile, the total active infections in the country currently sit at 60,957, while recoveries are at 2,654,173. Of the active cases, 77.5 have mild symptoms, 9.2 percent moderate, 6.1 percent asymptomatic, 5.1 percent are severe, and 2.1 percent are critical.\")\n",
    "r1.get_ranked_phrases()\n",
    "\n",
    "\n",
    "\n",
    "str1 = listToString(r.get_ranked_phrases())\n",
    "str2 = listToString(r1.get_ranked_phrases())\n",
    "\n",
    "\n",
    "# Printing keywords in string form\n",
    "print(str1)\n",
    "print(str2)\n",
    "\n"
   ]
  },
  {
   "cell_type": "code",
   "execution_count": 9,
   "metadata": {},
   "outputs": [
    {
     "name": "stdout",
     "output_type": "stream",
     "text": [
      "1.0\n"
     ]
    }
   ],
   "source": [
    "#compare similarities\n",
    "\n",
    "stemmer = nltk.stem.porter.PorterStemmer()\n",
    "remove_punctuation_map = dict((ord(char), None) for char in string.punctuation)\n",
    "\n",
    "def stem_tokens(tokens):\n",
    "    return [stemmer.stem(item) for item in tokens]\n",
    "\n",
    "'''remove punctuation, lowercase, stem'''\n",
    "def normalize(text):\n",
    "    return stem_tokens(nltk.word_tokenize(text.lower().translate(remove_punctuation_map)))\n",
    "\n",
    "vectorizer = TfidfVectorizer(tokenizer=normalize, stop_words='english')\n",
    "\n",
    "def cosine_sim(text1, text2):\n",
    "    tfidf = vectorizer.fit_transform([text1, text2])\n",
    "    return ((tfidf * tfidf.T).A)[0,1]\n",
    "\n",
    "\n",
    "input1 = str1\n",
    "input2 = str2\n",
    "simlarity_score = \"{:10.4f}\".format(cosine_sim(input2, input1))\n",
    "print(simlarity_score)\n",
    "\n"
   ]
  }
 ],
 "metadata": {
  "interpreter": {
   "hash": "ac59ebe37160ed0dfa835113d9b8498d9f09ceb179beaac4002f036b9467c963"
  },
  "kernelspec": {
   "display_name": "Python 3.9.7 64-bit",
   "name": "python3"
  },
  "language_info": {
   "codemirror_mode": {
    "name": "ipython",
    "version": 3
   },
   "file_extension": ".py",
   "mimetype": "text/x-python",
   "name": "python",
   "nbconvert_exporter": "python",
   "pygments_lexer": "ipython3",
   "version": "3.9.7"
  },
  "orig_nbformat": 4
 },
 "nbformat": 4,
 "nbformat_minor": 2
}
