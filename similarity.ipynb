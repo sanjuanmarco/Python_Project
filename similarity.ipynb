{
 "cells": [
  {
   "cell_type": "code",
   "execution_count": 10,
   "metadata": {},
   "outputs": [
    {
     "name": "stderr",
     "output_type": "stream",
     "text": [
      "[nltk_data] Downloading package punkt to\n",
      "[nltk_data]     C:\\Users\\jake\\AppData\\Roaming\\nltk_data...\n",
      "[nltk_data]   Package punkt is already up-to-date!\n"
     ]
    },
    {
     "data": {
      "text/plain": [
       "True"
      ]
     },
     "execution_count": 10,
     "metadata": {},
     "output_type": "execute_result"
    }
   ],
   "source": [
    "import nltk, string\n",
    "from sklearn.feature_extraction.text import TfidfVectorizer\n",
    "from rake_nltk import Rake\n",
    "import operator\n",
    "\n",
    "nltk.download('punkt') # if necessary...\n"
   ]
  },
  {
   "cell_type": "code",
   "execution_count": 13,
   "metadata": {},
   "outputs": [
    {
     "name": "stdout",
     "output_type": "stream",
     "text": [
      "saturday reported 65 new covid 19 deaths bringing deaths accounts total number death toll country ’ 51 percent doh said doh health department cases 585 41 1\n",
      "death toll also rose patients got better 807 new covid people currently sick experiencing mild symptoms severe symptoms people lost nationwide tally moderate condition infection count critical condition case total 19 infections reported 5 5 saturday recoveries raising number meanwhile lives health doh disease department cases bringing asymptomatic active 96 9 9 89 8 77 751 7 667 65 647 6 585 578 51 41 4 3 2 2 2 2 2 1 1 031\n"
     ]
    }
   ],
   "source": [
    "#Extract Keywords from rake to compare similarities \n",
    "\n",
    "def listToString(s): \n",
    "\n",
    "    str1 = \" \" \n",
    "    \n",
    "    return (str1.join(s))\n",
    "\n",
    "r = Rake()\n",
    "r.extract_keywords_from_text(r\"The Department of Health (DOH) on Saturday reported 65 new COVID-19 deaths bringing the country’s death toll to 41,585.The total number of deaths accounts for 1.51 percent of all cases, the DOH said.\")\n",
    "r.get_ranked_phrases()\n",
    "\n",
    "r1 = Rake()\n",
    "r1.extract_keywords_from_text( r\"The Department of Health (DOH) reported 5,807 new COVID-19 infections on Saturday, bringing the nationwide tally to 2,751,667.About 2.3% of cases are active or people currently sick, with 77.7% experiencing mild symptoms, 8.89% in moderate condition, 6.5% asymptomatic, 4.9% with severe symptoms, and 2.1% in critical condition.The death toll also rose to 41,585 - which is 1.51% of the infection count - after 65 more people lost their lives to the disease. Meanwhile, 9,578 more patients got better, raising the number of recoveries to 2,647,031 - which is 96.2% of the case total\")\n",
    "r1.get_ranked_phrases()\n",
    "\n",
    "\n",
    "\n",
    "str1 = listToString(r.get_ranked_phrases())\n",
    "str2 = listToString(r1.get_ranked_phrases())\n",
    "\n",
    "\n",
    "# Printing keywords in string form\n",
    "print(str1)\n",
    "print(str2)\n",
    "\n"
   ]
  },
  {
   "cell_type": "code",
   "execution_count": 12,
   "metadata": {},
   "outputs": [
    {
     "name": "stdout",
     "output_type": "stream",
     "text": [
      "0.27364158327154187\n"
     ]
    }
   ],
   "source": [
    "#compare similarities\n",
    "\n",
    "stemmer = nltk.stem.porter.PorterStemmer()\n",
    "remove_punctuation_map = dict((ord(char), None) for char in string.punctuation)\n",
    "\n",
    "def stem_tokens(tokens):\n",
    "    return [stemmer.stem(item) for item in tokens]\n",
    "\n",
    "'''remove punctuation, lowercase, stem'''\n",
    "def normalize(text):\n",
    "    return stem_tokens(nltk.word_tokenize(text.lower().translate(remove_punctuation_map)))\n",
    "\n",
    "vectorizer = TfidfVectorizer(tokenizer=normalize, stop_words='english')\n",
    "\n",
    "def cosine_sim(text1, text2):\n",
    "    tfidf = vectorizer.fit_transform([text1, text2])\n",
    "    return ((tfidf * tfidf.T).A)[0,1]\n",
    "\n",
    "\n",
    "input1 = str1\n",
    "input2 = str2\n",
    "print (cosine_sim(input2, input1))\n"
   ]
  }
 ],
 "metadata": {
  "language_info": {
   "name": "python"
  },
  "orig_nbformat": 4
 },
 "nbformat": 4,
 "nbformat_minor": 2
}
